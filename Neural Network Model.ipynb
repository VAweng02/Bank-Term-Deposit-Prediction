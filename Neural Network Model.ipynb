{
 "cells": [
  {
   "cell_type": "code",
   "execution_count": 2,
   "id": "94f3e7c2",
   "metadata": {},
   "outputs": [],
   "source": [
    "import pandas as pd\n",
    "import numpy as np"
   ]
  },
  {
   "cell_type": "code",
   "execution_count": 3,
   "id": "4a08eaaf",
   "metadata": {},
   "outputs": [],
   "source": [
    "df = pd.read_csv('cleaned_data.csv')"
   ]
  },
  {
   "cell_type": "code",
   "execution_count": 4,
   "id": "93676430",
   "metadata": {},
   "outputs": [
    {
     "data": {
      "text/html": [
       "<div>\n",
       "<style scoped>\n",
       "    .dataframe tbody tr th:only-of-type {\n",
       "        vertical-align: middle;\n",
       "    }\n",
       "\n",
       "    .dataframe tbody tr th {\n",
       "        vertical-align: top;\n",
       "    }\n",
       "\n",
       "    .dataframe thead th {\n",
       "        text-align: right;\n",
       "    }\n",
       "</style>\n",
       "<table border=\"1\" class=\"dataframe\">\n",
       "  <thead>\n",
       "    <tr style=\"text-align: right;\">\n",
       "      <th></th>\n",
       "      <th>age</th>\n",
       "      <th>job</th>\n",
       "      <th>marital</th>\n",
       "      <th>education</th>\n",
       "      <th>default</th>\n",
       "      <th>housing</th>\n",
       "      <th>loan</th>\n",
       "      <th>contact</th>\n",
       "      <th>month</th>\n",
       "      <th>year</th>\n",
       "      <th>...</th>\n",
       "      <th>campaign</th>\n",
       "      <th>pdays</th>\n",
       "      <th>previous</th>\n",
       "      <th>poutcome</th>\n",
       "      <th>emp.var.rate</th>\n",
       "      <th>cons.price.idx</th>\n",
       "      <th>cons.conf.idx</th>\n",
       "      <th>euribor3m</th>\n",
       "      <th>nr.employed</th>\n",
       "      <th>y</th>\n",
       "    </tr>\n",
       "  </thead>\n",
       "  <tbody>\n",
       "    <tr>\n",
       "      <th>0</th>\n",
       "      <td>56</td>\n",
       "      <td>housemaid</td>\n",
       "      <td>married</td>\n",
       "      <td>1.0</td>\n",
       "      <td>1.0</td>\n",
       "      <td>no</td>\n",
       "      <td>no</td>\n",
       "      <td>telephone</td>\n",
       "      <td>may</td>\n",
       "      <td>2008</td>\n",
       "      <td>...</td>\n",
       "      <td>1</td>\n",
       "      <td>-1</td>\n",
       "      <td>0</td>\n",
       "      <td>nonexistent</td>\n",
       "      <td>1.1</td>\n",
       "      <td>93.994</td>\n",
       "      <td>-36.4</td>\n",
       "      <td>4.857</td>\n",
       "      <td>5191.0</td>\n",
       "      <td>no</td>\n",
       "    </tr>\n",
       "    <tr>\n",
       "      <th>1</th>\n",
       "      <td>57</td>\n",
       "      <td>services</td>\n",
       "      <td>married</td>\n",
       "      <td>4.0</td>\n",
       "      <td>0.0</td>\n",
       "      <td>no</td>\n",
       "      <td>no</td>\n",
       "      <td>telephone</td>\n",
       "      <td>may</td>\n",
       "      <td>2008</td>\n",
       "      <td>...</td>\n",
       "      <td>1</td>\n",
       "      <td>-1</td>\n",
       "      <td>0</td>\n",
       "      <td>nonexistent</td>\n",
       "      <td>1.1</td>\n",
       "      <td>93.994</td>\n",
       "      <td>-36.4</td>\n",
       "      <td>4.857</td>\n",
       "      <td>5191.0</td>\n",
       "      <td>no</td>\n",
       "    </tr>\n",
       "    <tr>\n",
       "      <th>2</th>\n",
       "      <td>37</td>\n",
       "      <td>services</td>\n",
       "      <td>married</td>\n",
       "      <td>4.0</td>\n",
       "      <td>1.0</td>\n",
       "      <td>yes</td>\n",
       "      <td>no</td>\n",
       "      <td>telephone</td>\n",
       "      <td>may</td>\n",
       "      <td>2008</td>\n",
       "      <td>...</td>\n",
       "      <td>1</td>\n",
       "      <td>-1</td>\n",
       "      <td>0</td>\n",
       "      <td>nonexistent</td>\n",
       "      <td>1.1</td>\n",
       "      <td>93.994</td>\n",
       "      <td>-36.4</td>\n",
       "      <td>4.857</td>\n",
       "      <td>5191.0</td>\n",
       "      <td>no</td>\n",
       "    </tr>\n",
       "    <tr>\n",
       "      <th>3</th>\n",
       "      <td>40</td>\n",
       "      <td>admin.</td>\n",
       "      <td>married</td>\n",
       "      <td>2.0</td>\n",
       "      <td>1.0</td>\n",
       "      <td>no</td>\n",
       "      <td>no</td>\n",
       "      <td>telephone</td>\n",
       "      <td>may</td>\n",
       "      <td>2008</td>\n",
       "      <td>...</td>\n",
       "      <td>1</td>\n",
       "      <td>-1</td>\n",
       "      <td>0</td>\n",
       "      <td>nonexistent</td>\n",
       "      <td>1.1</td>\n",
       "      <td>93.994</td>\n",
       "      <td>-36.4</td>\n",
       "      <td>4.857</td>\n",
       "      <td>5191.0</td>\n",
       "      <td>no</td>\n",
       "    </tr>\n",
       "    <tr>\n",
       "      <th>4</th>\n",
       "      <td>56</td>\n",
       "      <td>services</td>\n",
       "      <td>married</td>\n",
       "      <td>4.0</td>\n",
       "      <td>1.0</td>\n",
       "      <td>no</td>\n",
       "      <td>yes</td>\n",
       "      <td>telephone</td>\n",
       "      <td>may</td>\n",
       "      <td>2008</td>\n",
       "      <td>...</td>\n",
       "      <td>1</td>\n",
       "      <td>-1</td>\n",
       "      <td>0</td>\n",
       "      <td>nonexistent</td>\n",
       "      <td>1.1</td>\n",
       "      <td>93.994</td>\n",
       "      <td>-36.4</td>\n",
       "      <td>4.857</td>\n",
       "      <td>5191.0</td>\n",
       "      <td>no</td>\n",
       "    </tr>\n",
       "    <tr>\n",
       "      <th>...</th>\n",
       "      <td>...</td>\n",
       "      <td>...</td>\n",
       "      <td>...</td>\n",
       "      <td>...</td>\n",
       "      <td>...</td>\n",
       "      <td>...</td>\n",
       "      <td>...</td>\n",
       "      <td>...</td>\n",
       "      <td>...</td>\n",
       "      <td>...</td>\n",
       "      <td>...</td>\n",
       "      <td>...</td>\n",
       "      <td>...</td>\n",
       "      <td>...</td>\n",
       "      <td>...</td>\n",
       "      <td>...</td>\n",
       "      <td>...</td>\n",
       "      <td>...</td>\n",
       "      <td>...</td>\n",
       "      <td>...</td>\n",
       "      <td>...</td>\n",
       "    </tr>\n",
       "    <tr>\n",
       "      <th>40782</th>\n",
       "      <td>73</td>\n",
       "      <td>retired</td>\n",
       "      <td>married</td>\n",
       "      <td>5.0</td>\n",
       "      <td>1.0</td>\n",
       "      <td>yes</td>\n",
       "      <td>no</td>\n",
       "      <td>cellular</td>\n",
       "      <td>nov</td>\n",
       "      <td>2010</td>\n",
       "      <td>...</td>\n",
       "      <td>1</td>\n",
       "      <td>-1</td>\n",
       "      <td>0</td>\n",
       "      <td>nonexistent</td>\n",
       "      <td>-1.1</td>\n",
       "      <td>94.767</td>\n",
       "      <td>-50.8</td>\n",
       "      <td>1.028</td>\n",
       "      <td>4963.6</td>\n",
       "      <td>yes</td>\n",
       "    </tr>\n",
       "    <tr>\n",
       "      <th>40783</th>\n",
       "      <td>46</td>\n",
       "      <td>blue-collar</td>\n",
       "      <td>married</td>\n",
       "      <td>5.0</td>\n",
       "      <td>1.0</td>\n",
       "      <td>no</td>\n",
       "      <td>no</td>\n",
       "      <td>cellular</td>\n",
       "      <td>nov</td>\n",
       "      <td>2010</td>\n",
       "      <td>...</td>\n",
       "      <td>1</td>\n",
       "      <td>-1</td>\n",
       "      <td>0</td>\n",
       "      <td>nonexistent</td>\n",
       "      <td>-1.1</td>\n",
       "      <td>94.767</td>\n",
       "      <td>-50.8</td>\n",
       "      <td>1.028</td>\n",
       "      <td>4963.6</td>\n",
       "      <td>no</td>\n",
       "    </tr>\n",
       "    <tr>\n",
       "      <th>40784</th>\n",
       "      <td>56</td>\n",
       "      <td>retired</td>\n",
       "      <td>married</td>\n",
       "      <td>6.0</td>\n",
       "      <td>1.0</td>\n",
       "      <td>yes</td>\n",
       "      <td>no</td>\n",
       "      <td>cellular</td>\n",
       "      <td>nov</td>\n",
       "      <td>2010</td>\n",
       "      <td>...</td>\n",
       "      <td>2</td>\n",
       "      <td>-1</td>\n",
       "      <td>0</td>\n",
       "      <td>nonexistent</td>\n",
       "      <td>-1.1</td>\n",
       "      <td>94.767</td>\n",
       "      <td>-50.8</td>\n",
       "      <td>1.028</td>\n",
       "      <td>4963.6</td>\n",
       "      <td>no</td>\n",
       "    </tr>\n",
       "    <tr>\n",
       "      <th>40785</th>\n",
       "      <td>44</td>\n",
       "      <td>technician</td>\n",
       "      <td>married</td>\n",
       "      <td>5.0</td>\n",
       "      <td>1.0</td>\n",
       "      <td>no</td>\n",
       "      <td>no</td>\n",
       "      <td>cellular</td>\n",
       "      <td>nov</td>\n",
       "      <td>2010</td>\n",
       "      <td>...</td>\n",
       "      <td>1</td>\n",
       "      <td>-1</td>\n",
       "      <td>0</td>\n",
       "      <td>nonexistent</td>\n",
       "      <td>-1.1</td>\n",
       "      <td>94.767</td>\n",
       "      <td>-50.8</td>\n",
       "      <td>1.028</td>\n",
       "      <td>4963.6</td>\n",
       "      <td>yes</td>\n",
       "    </tr>\n",
       "    <tr>\n",
       "      <th>40786</th>\n",
       "      <td>74</td>\n",
       "      <td>retired</td>\n",
       "      <td>married</td>\n",
       "      <td>5.0</td>\n",
       "      <td>1.0</td>\n",
       "      <td>yes</td>\n",
       "      <td>no</td>\n",
       "      <td>cellular</td>\n",
       "      <td>nov</td>\n",
       "      <td>2010</td>\n",
       "      <td>...</td>\n",
       "      <td>3</td>\n",
       "      <td>-1</td>\n",
       "      <td>1</td>\n",
       "      <td>failure</td>\n",
       "      <td>-1.1</td>\n",
       "      <td>94.767</td>\n",
       "      <td>-50.8</td>\n",
       "      <td>1.028</td>\n",
       "      <td>4963.6</td>\n",
       "      <td>no</td>\n",
       "    </tr>\n",
       "  </tbody>\n",
       "</table>\n",
       "<p>40787 rows × 22 columns</p>\n",
       "</div>"
      ],
      "text/plain": [
       "       age          job  marital  education  default housing loan    contact   \n",
       "0       56    housemaid  married        1.0      1.0      no   no  telephone  \\\n",
       "1       57     services  married        4.0      0.0      no   no  telephone   \n",
       "2       37     services  married        4.0      1.0     yes   no  telephone   \n",
       "3       40       admin.  married        2.0      1.0      no   no  telephone   \n",
       "4       56     services  married        4.0      1.0      no  yes  telephone   \n",
       "...    ...          ...      ...        ...      ...     ...  ...        ...   \n",
       "40782   73      retired  married        5.0      1.0     yes   no   cellular   \n",
       "40783   46  blue-collar  married        5.0      1.0      no   no   cellular   \n",
       "40784   56      retired  married        6.0      1.0     yes   no   cellular   \n",
       "40785   44   technician  married        5.0      1.0      no   no   cellular   \n",
       "40786   74      retired  married        5.0      1.0     yes   no   cellular   \n",
       "\n",
       "      month  year  ... campaign  pdays  previous     poutcome  emp.var.rate   \n",
       "0       may  2008  ...        1     -1         0  nonexistent           1.1  \\\n",
       "1       may  2008  ...        1     -1         0  nonexistent           1.1   \n",
       "2       may  2008  ...        1     -1         0  nonexistent           1.1   \n",
       "3       may  2008  ...        1     -1         0  nonexistent           1.1   \n",
       "4       may  2008  ...        1     -1         0  nonexistent           1.1   \n",
       "...     ...   ...  ...      ...    ...       ...          ...           ...   \n",
       "40782   nov  2010  ...        1     -1         0  nonexistent          -1.1   \n",
       "40783   nov  2010  ...        1     -1         0  nonexistent          -1.1   \n",
       "40784   nov  2010  ...        2     -1         0  nonexistent          -1.1   \n",
       "40785   nov  2010  ...        1     -1         0  nonexistent          -1.1   \n",
       "40786   nov  2010  ...        3     -1         1      failure          -1.1   \n",
       "\n",
       "      cons.price.idx  cons.conf.idx  euribor3m  nr.employed    y  \n",
       "0             93.994          -36.4      4.857       5191.0   no  \n",
       "1             93.994          -36.4      4.857       5191.0   no  \n",
       "2             93.994          -36.4      4.857       5191.0   no  \n",
       "3             93.994          -36.4      4.857       5191.0   no  \n",
       "4             93.994          -36.4      4.857       5191.0   no  \n",
       "...              ...            ...        ...          ...  ...  \n",
       "40782         94.767          -50.8      1.028       4963.6  yes  \n",
       "40783         94.767          -50.8      1.028       4963.6   no  \n",
       "40784         94.767          -50.8      1.028       4963.6   no  \n",
       "40785         94.767          -50.8      1.028       4963.6  yes  \n",
       "40786         94.767          -50.8      1.028       4963.6   no  \n",
       "\n",
       "[40787 rows x 22 columns]"
      ]
     },
     "execution_count": 4,
     "metadata": {},
     "output_type": "execute_result"
    }
   ],
   "source": [
    "df"
   ]
  },
  {
   "cell_type": "code",
   "execution_count": 5,
   "id": "d0f8fa73",
   "metadata": {},
   "outputs": [
    {
     "data": {
      "text/plain": [
       "Index(['age', 'job', 'marital', 'education', 'default', 'housing', 'loan',\n",
       "       'contact', 'month', 'year', 'day_of_week', 'duration', 'campaign',\n",
       "       'pdays', 'previous', 'poutcome', 'emp.var.rate', 'cons.price.idx',\n",
       "       'cons.conf.idx', 'euribor3m', 'nr.employed', 'y'],\n",
       "      dtype='object')"
      ]
     },
     "execution_count": 5,
     "metadata": {},
     "output_type": "execute_result"
    }
   ],
   "source": [
    "df.columns"
   ]
  },
  {
   "cell_type": "code",
   "execution_count": 6,
   "id": "e629f8d1",
   "metadata": {},
   "outputs": [],
   "source": [
    "# Drop as stated in problem statement\n",
    "df = df.drop(['duration'], axis=1)"
   ]
  },
  {
   "cell_type": "code",
   "execution_count": 7,
   "id": "30f3f375",
   "metadata": {},
   "outputs": [],
   "source": [
    "# List of categorical variables\n",
    "categorical_vars = ['job', 'marital', 'education', 'default', 'housing', 'loan', 'contact', 'month', 'day_of_week', 'poutcome']\n",
    "\n",
    "# Apply one-hot encoding\n",
    "df_encoded = pd.get_dummies(df, columns=categorical_vars)"
   ]
  },
  {
   "cell_type": "code",
   "execution_count": 8,
   "id": "14882f29",
   "metadata": {},
   "outputs": [],
   "source": [
    "# Encode y variable\n",
    "df_encoded['y'] = df_encoded['y'].map({'no': 0, 'yes': 1})"
   ]
  },
  {
   "cell_type": "code",
   "execution_count": 9,
   "id": "e369aa1b",
   "metadata": {},
   "outputs": [],
   "source": [
    "# Seperate X, y\n",
    "X = df_encoded\n",
    "y = df_encoded['y'] "
   ]
  },
  {
   "cell_type": "code",
   "execution_count": 10,
   "id": "ca9c6bb4",
   "metadata": {},
   "outputs": [],
   "source": [
    "# Split data into train and test with 80/20 split\n",
    "from sklearn.model_selection import train_test_split\n",
    "\n",
    "X_train, X_test, y_train, y_test = train_test_split(X, y, test_size=0.2)"
   ]
  },
  {
   "cell_type": "code",
   "execution_count": 11,
   "id": "cf3bceba",
   "metadata": {},
   "outputs": [
    {
     "name": "stdout",
     "output_type": "stream",
     "text": [
      "(32629, 59)\n",
      "(8158, 59)\n",
      "(32629,)\n",
      "(8158,)\n"
     ]
    }
   ],
   "source": [
    "print(X_train.shape)\n",
    "print(X_test.shape)\n",
    "print(y_train.shape)\n",
    "print(y_test.shape)"
   ]
  },
  {
   "cell_type": "code",
   "execution_count": 12,
   "id": "ebb6cb12",
   "metadata": {},
   "outputs": [],
   "source": [
    "# Change data types for X and y\n",
    "X_train = X_train.astype(float)\n",
    "X_test = X_test.astype(float)\n",
    "y_train = y_train.astype(int)\n",
    "y_test = y_test.astype(int)"
   ]
  },
  {
   "cell_type": "code",
   "execution_count": 13,
   "id": "dc318c52",
   "metadata": {},
   "outputs": [
    {
     "data": {
      "text/plain": [
       "21"
      ]
     },
     "execution_count": 13,
     "metadata": {},
     "output_type": "execute_result"
    }
   ],
   "source": [
    "# Feautres in dataset\n",
    "num_features = df.shape[1]\n",
    "num_features"
   ]
  },
  {
   "cell_type": "code",
   "execution_count": 14,
   "id": "21291f73",
   "metadata": {},
   "outputs": [],
   "source": [
    "# Neural network model\n",
    "from keras.models import Sequential\n",
    "from keras.layers import Dense\n",
    "from sklearn.metrics import classification_report\n",
    "# First layer is determined by number of feautres in training data\n",
    "model = Sequential()\n",
    "model.add(Dense(32, input_dim=X_train.shape[1], activation='relu'))  # Input layer and first hidden layer\n",
    "model.add(Dense(16, activation='relu'))  # Second hidden layer\n",
    "model.add(Dense(1, activation='sigmoid'))  # Output layer"
   ]
  },
  {
   "cell_type": "code",
   "execution_count": 15,
   "id": "d32b6765",
   "metadata": {
    "scrolled": true
   },
   "outputs": [
    {
     "name": "stdout",
     "output_type": "stream",
     "text": [
      "Epoch 1/50\n",
      "1020/1020 [==============================] - 1s 649us/step - loss: 5.2767 - accuracy: 0.8443\n",
      "Epoch 2/50\n",
      "1020/1020 [==============================] - 1s 643us/step - loss: 0.6809 - accuracy: 0.8712\n",
      "Epoch 3/50\n",
      "1020/1020 [==============================] - 1s 632us/step - loss: 0.4849 - accuracy: 0.8914\n",
      "Epoch 4/50\n",
      "1020/1020 [==============================] - 1s 657us/step - loss: 0.4400 - accuracy: 0.9094\n",
      "Epoch 5/50\n",
      "1020/1020 [==============================] - 1s 627us/step - loss: 0.4546 - accuracy: 0.9184\n",
      "Epoch 6/50\n",
      "1020/1020 [==============================] - 1s 627us/step - loss: 0.2900 - accuracy: 0.9410\n",
      "Epoch 7/50\n",
      "1020/1020 [==============================] - 1s 624us/step - loss: 0.1965 - accuracy: 0.9643\n",
      "Epoch 8/50\n",
      "1020/1020 [==============================] - 1s 616us/step - loss: 0.2406 - accuracy: 0.9738\n",
      "Epoch 9/50\n",
      "1020/1020 [==============================] - 1s 638us/step - loss: 0.5253 - accuracy: 0.9535\n",
      "Epoch 10/50\n",
      "1020/1020 [==============================] - 1s 695us/step - loss: 0.1648 - accuracy: 0.9727\n",
      "Epoch 11/50\n",
      "1020/1020 [==============================] - 1s 697us/step - loss: 0.0085 - accuracy: 1.0000\n",
      "Epoch 12/50\n",
      "1020/1020 [==============================] - 1s 704us/step - loss: 0.0074 - accuracy: 0.9998\n",
      "Epoch 13/50\n",
      "1020/1020 [==============================] - 1s 702us/step - loss: 0.5381 - accuracy: 0.9622\n",
      "Epoch 14/50\n",
      "1020/1020 [==============================] - 1s 729us/step - loss: 0.0062 - accuracy: 0.9995\n",
      "Epoch 15/50\n",
      "1020/1020 [==============================] - 1s 705us/step - loss: 0.0038 - accuracy: 1.0000\n",
      "Epoch 16/50\n",
      "1020/1020 [==============================] - 1s 654us/step - loss: 0.0030 - accuracy: 1.0000\n",
      "Epoch 17/50\n",
      "1020/1020 [==============================] - 1s 655us/step - loss: 0.2741 - accuracy: 0.9879\n",
      "Epoch 18/50\n",
      "1020/1020 [==============================] - 1s 634us/step - loss: 0.0027 - accuracy: 1.0000\n",
      "Epoch 19/50\n",
      "1020/1020 [==============================] - 1s 625us/step - loss: 0.0022 - accuracy: 1.0000\n",
      "Epoch 20/50\n",
      "1020/1020 [==============================] - 1s 671us/step - loss: 0.0017 - accuracy: 1.0000\n",
      "Epoch 21/50\n",
      "1020/1020 [==============================] - 1s 701us/step - loss: 0.6850 - accuracy: 0.9660\n",
      "Epoch 22/50\n",
      "1020/1020 [==============================] - 1s 722us/step - loss: 0.0047 - accuracy: 0.9998\n",
      "Epoch 23/50\n",
      "1020/1020 [==============================] - 1s 713us/step - loss: 0.0028 - accuracy: 1.0000\n",
      "Epoch 24/50\n",
      "1020/1020 [==============================] - 1s 680us/step - loss: 0.0020 - accuracy: 1.0000\n",
      "Epoch 25/50\n",
      "1020/1020 [==============================] - 1s 646us/step - loss: 0.0018 - accuracy: 1.0000\n",
      "Epoch 26/50\n",
      "1020/1020 [==============================] - 1s 638us/step - loss: 0.4961 - accuracy: 0.9800\n",
      "Epoch 27/50\n",
      "1020/1020 [==============================] - 1s 619us/step - loss: 0.0020 - accuracy: 1.0000\n",
      "Epoch 28/50\n",
      "1020/1020 [==============================] - 1s 627us/step - loss: 0.0015 - accuracy: 1.0000\n",
      "Epoch 29/50\n",
      "1020/1020 [==============================] - 1s 645us/step - loss: 0.0012 - accuracy: 1.0000\n",
      "Epoch 30/50\n",
      "1020/1020 [==============================] - 1s 624us/step - loss: 0.0010 - accuracy: 1.0000\n",
      "Epoch 31/50\n",
      "1020/1020 [==============================] - 1s 635us/step - loss: 8.4574e-04 - accuracy: 1.0000\n",
      "Epoch 32/50\n",
      "1020/1020 [==============================] - 1s 653us/step - loss: 6.3727e-04 - accuracy: 1.0000\n",
      "Epoch 33/50\n",
      "1020/1020 [==============================] - 1s 633us/step - loss: 4.2816e-04 - accuracy: 1.0000\n",
      "Epoch 34/50\n",
      "1020/1020 [==============================] - 1s 633us/step - loss: 3.2049e-04 - accuracy: 1.0000\n",
      "Epoch 35/50\n",
      "1020/1020 [==============================] - 1s 623us/step - loss: 0.3749 - accuracy: 0.9833\n",
      "Epoch 36/50\n",
      "1020/1020 [==============================] - 1s 629us/step - loss: 4.7467e-04 - accuracy: 1.0000\n",
      "Epoch 37/50\n",
      "1020/1020 [==============================] - 1s 631us/step - loss: 3.8560e-04 - accuracy: 1.0000\n",
      "Epoch 38/50\n",
      "1020/1020 [==============================] - 1s 640us/step - loss: 3.1748e-04 - accuracy: 1.0000\n",
      "Epoch 39/50\n",
      "1020/1020 [==============================] - 1s 637us/step - loss: 2.5903e-04 - accuracy: 1.0000\n",
      "Epoch 40/50\n",
      "1020/1020 [==============================] - 1s 638us/step - loss: 2.1457e-04 - accuracy: 1.0000\n",
      "Epoch 41/50\n",
      "1020/1020 [==============================] - 1s 638us/step - loss: 1.7600e-04 - accuracy: 1.0000\n",
      "Epoch 42/50\n",
      "1020/1020 [==============================] - 1s 662us/step - loss: 1.4503e-04 - accuracy: 1.0000\n",
      "Epoch 43/50\n",
      "1020/1020 [==============================] - 1s 641us/step - loss: 1.1640e-04 - accuracy: 1.0000\n",
      "Epoch 44/50\n",
      "1020/1020 [==============================] - 1s 636us/step - loss: 8.8359e-05 - accuracy: 1.0000\n",
      "Epoch 45/50\n",
      "1020/1020 [==============================] - 1s 623us/step - loss: 6.0544e-05 - accuracy: 1.0000\n",
      "Epoch 46/50\n",
      "1020/1020 [==============================] - 1s 642us/step - loss: 3.4805e-05 - accuracy: 1.0000\n",
      "Epoch 47/50\n",
      "1020/1020 [==============================] - 1s 636us/step - loss: 2.3681e-05 - accuracy: 1.0000\n",
      "Epoch 48/50\n",
      "1020/1020 [==============================] - 1s 656us/step - loss: 1.5541e-05 - accuracy: 1.0000\n",
      "Epoch 49/50\n",
      "1020/1020 [==============================] - 1s 641us/step - loss: 8.7077e-06 - accuracy: 1.0000\n",
      "Epoch 50/50\n",
      "1020/1020 [==============================] - 1s 638us/step - loss: 0.3884 - accuracy: 0.9806\n"
     ]
    },
    {
     "data": {
      "text/plain": [
       "<keras.callbacks.History at 0x23fa970c1d0>"
      ]
     },
     "execution_count": 15,
     "metadata": {},
     "output_type": "execute_result"
    }
   ],
   "source": [
    "# Configure learning process of model\n",
    "model.compile(loss='binary_crossentropy', \n",
    "              optimizer='adam', metrics=['accuracy'])\n",
    "# Fit model \n",
    "model.fit(X_train, y_train, epochs=50, batch_size=32)"
   ]
  },
  {
   "cell_type": "code",
   "execution_count": 16,
   "id": "065e8deb",
   "metadata": {},
   "outputs": [
    {
     "name": "stdout",
     "output_type": "stream",
     "text": [
      "255/255 [==============================] - 0s 563us/step - loss: 2.3037e-05 - accuracy: 1.0000\n",
      "Model without class weights: Loss = 2.303668406966608e-05, Accuracy = 1.0\n"
     ]
    }
   ],
   "source": [
    "# Evaluate the model \n",
    "loss, accuracy = model.evaluate(X_test, y_test)\n",
    "print(f\"Model without class weights: Loss = {loss}, Accuracy = {accuracy}\")"
   ]
  },
  {
   "cell_type": "markdown",
   "id": "e7120db7",
   "metadata": {},
   "source": [
    "The model has achieved a very high accuracy of 1.0 on the test data, which indicates that the model is performing extremely well and making correct predictions for all the samples in the test set"
   ]
  },
  {
   "cell_type": "code",
   "execution_count": 17,
   "id": "92f56f5c",
   "metadata": {},
   "outputs": [
    {
     "name": "stdout",
     "output_type": "stream",
     "text": [
      "              precision    recall  f1-score   support\n",
      "\n",
      "           0       1.00      1.00      1.00      7182\n",
      "           1       1.00      1.00      1.00       976\n",
      "\n",
      "    accuracy                           1.00      8158\n",
      "   macro avg       1.00      1.00      1.00      8158\n",
      "weighted avg       1.00      1.00      1.00      8158\n",
      "\n"
     ]
    }
   ],
   "source": [
    "print(classification_report(y_test, y_test))"
   ]
  },
  {
   "cell_type": "code",
   "execution_count": 22,
   "id": "b1620aeb",
   "metadata": {},
   "outputs": [
    {
     "name": "stdout",
     "output_type": "stream",
     "text": [
      "255/255 [==============================] - 0s 465us/step\n"
     ]
    }
   ],
   "source": [
    "# Create y prediction\n",
    "y_pred = model.predict(X_test)\n",
    "y_pred_binary = np.round(y_pred)  # Convert probability predictions to binary"
   ]
  },
  {
   "cell_type": "markdown",
   "id": "2ebb2da3",
   "metadata": {},
   "source": [
    "Classification report came back as all 1s indicating a perfect performance for the model "
   ]
  },
  {
   "cell_type": "code",
   "execution_count": 23,
   "id": "95d8858a",
   "metadata": {},
   "outputs": [
    {
     "data": {
      "image/png": "[encoded data removed]",
      "text/plain": [
       "<Figure size 640x480 with 2 Axes>"
      ]
     },
     "metadata": {},
     "output_type": "display_data"
    }
   ],
   "source": [
    "import matplotlib.pyplot as plt\n",
    "import seaborn as sns\n",
    "\n",
    "cnf_matrix = metrics.confusion_matrix(y_test, y_pred_binary)  # create the confusion matrix\n",
    "sns.heatmap(pd.DataFrame(cnf_matrix), annot=True, cmap=\"YlGnBu\" ,fmt='g')  # show in the form of heat map\n",
    "\n",
    "plt.title('Confusion Matrix', fontsize = 15)\n",
    "plt.xlabel('Prediction', fontsize = 10)\n",
    "plt.ylabel('Truth', fontsize = 10)\n",
    "\n",
    "plt.show()"
   ]
  },
  {
   "cell_type": "code",
   "execution_count": null,
   "id": "57201de3",
   "metadata": {},
   "outputs": [],
   "source": []
  }
 ],
 "metadata": {
  "kernelspec": {
   "display_name": "Python 3 (ipykernel)",
   "language": "python",
   "name": "python3"
  },
  "language_info": {
   "codemirror_mode": {
    "name": "ipython",
    "version": 3
   },
   "file_extension": ".py",
   "mimetype": "text/x-python",
   "name": "python",
   "nbconvert_exporter": "python",
   "pygments_lexer": "ipython3",
   "version": "3.11.1"
  }
 },
 "nbformat": 4,
 "nbformat_minor": 5
}
